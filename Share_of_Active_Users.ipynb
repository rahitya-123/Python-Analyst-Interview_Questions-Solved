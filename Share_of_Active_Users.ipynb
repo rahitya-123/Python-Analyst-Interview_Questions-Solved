{
 "cells": [
  {
   "cell_type": "markdown",
   "id": "856a161b-a557-4246-9b02-c785c7c42a2d",
   "metadata": {},
   "source": [
    "## Share of Active Users\n",
    "Calculate the percentage of users who are both from the US and have an 'open' status, as indicated in the fb_active_users table.\n",
    "\n",
    "DataFrame: fb_active_users<br>\n",
    "Expected Output Type: pandas.DataFrame"
   ]
  },
  {
   "cell_type": "code",
   "execution_count": 2,
   "id": "6c6e2a96-86c2-40d1-85ff-26497e457460",
   "metadata": {},
   "outputs": [
    {
     "name": "stdout",
     "output_type": "stream",
     "text": [
      "    user_id              name  status     country\n",
      "0        33       Amanda Leon    open   Australia\n",
      "1        27   Jessica Farrell    open  Luxembourg\n",
      "2        18     Wanda Ramirez    open         USA\n",
      "3        50     Samuel Miller  closed      Brazil\n",
      "4        16        Jacob York    open   Australia\n",
      "5        25  Natasha Bradford  closed         USA\n",
      "6        34       Donald Ross  closed       China\n",
      "7        52  Michelle Jimenez    open         USA\n",
      "8        11      Theresa John    open       China\n",
      "9        37    Michael Turner  closed   Australia\n",
      "10       32   Catherine Hurst  closed        Mali\n",
      "11       61       Tina Turner    open  Luxembourg\n",
      "12        4     Ashley Sparks    open       China\n",
      "13       82        Jacob York  closed         USA\n",
      "14       87      David Taylor  closed         USA\n",
      "15       78  Zachary Anderson    open       China\n",
      "16        5        Tiger Leon  closed       China\n",
      "17       56    Theresa Weaver  closed      Brazil\n",
      "18       21     Tonya Johnson  closed        Mali\n",
      "19       89        Kyle Curry  closed        Mali\n",
      "20        7        Donald Jim    open         USA\n",
      "21       22      Michael Bone    open      Canada\n",
      "22       31     Sara Michaels    open     Denmark\n"
     ]
    }
   ],
   "source": [
    "import pandas as pd\n",
    "\n",
    "# Create the dataframe\n",
    "fb_active_users = pd.DataFrame({\n",
    "    'user_id': [33, 27, 18, 50, 16, 25, 34, 52, 11, 37, 32, 61, 4, 82, 87, 78, 5, 56, 21, 89, 7, 22, 31],\n",
    "    'name': ['Amanda Leon', 'Jessica Farrell', 'Wanda Ramirez', 'Samuel Miller', 'Jacob York', \n",
    "             'Natasha Bradford', 'Donald Ross', 'Michelle Jimenez', 'Theresa John', 'Michael Turner', \n",
    "             'Catherine Hurst', 'Tina Turner', 'Ashley Sparks', 'Jacob York', 'David Taylor', \n",
    "             'Zachary Anderson', 'Tiger Leon', 'Theresa Weaver', 'Tonya Johnson', 'Kyle Curry', \n",
    "             'Donald Jim', 'Michael Bone', 'Sara Michaels'],\n",
    "    'status': ['open', 'open', 'open', 'closed', 'open', 'closed', 'closed', 'open', 'open', 'closed', \n",
    "               'closed', 'open', 'open', 'closed', 'closed', 'open', 'closed', 'closed', 'closed', \n",
    "               'closed', 'open', 'open', 'open'],\n",
    "    'country': ['Australia', 'Luxembourg', 'USA', 'Brazil', 'Australia', 'USA', 'China', 'USA', 'China', \n",
    "                'Australia', 'Mali', 'Luxembourg', 'China', 'USA', 'USA', 'China', 'China', 'Brazil', \n",
    "                'Mali', 'Mali', 'USA', 'Canada', 'Denmark']\n",
    "})\n",
    "\n",
    "# Display the dataframe\n",
    "print(fb_active_users)"
   ]
  },
  {
   "cell_type": "code",
   "execution_count": 5,
   "id": "325ac318-2fd8-4c64-a695-593b4699f9a1",
   "metadata": {},
   "outputs": [
    {
     "data": {
      "text/html": [
       "<div>\n",
       "<style scoped>\n",
       "    .dataframe tbody tr th:only-of-type {\n",
       "        vertical-align: middle;\n",
       "    }\n",
       "\n",
       "    .dataframe tbody tr th {\n",
       "        vertical-align: top;\n",
       "    }\n",
       "\n",
       "    .dataframe thead th {\n",
       "        text-align: right;\n",
       "    }\n",
       "</style>\n",
       "<table border=\"1\" class=\"dataframe\">\n",
       "  <thead>\n",
       "    <tr style=\"text-align: right;\">\n",
       "      <th></th>\n",
       "      <th>us_active_share</th>\n",
       "    </tr>\n",
       "  </thead>\n",
       "  <tbody>\n",
       "    <tr>\n",
       "      <th>0</th>\n",
       "      <td>13.043478</td>\n",
       "    </tr>\n",
       "  </tbody>\n",
       "</table>\n",
       "</div>"
      ],
      "text/plain": [
       "   us_active_share\n",
       "0        13.043478"
      ]
     },
     "execution_count": 5,
     "metadata": {},
     "output_type": "execute_result"
    }
   ],
   "source": [
    "# Import your libraries\n",
    "import pandas as pd\n",
    "\n",
    "# Start writing code\n",
    "fb_active_users\n",
    "\n",
    "total_users = fb_active_users.count()\n",
    "resultant_df = fb_active_users[fb_active_users['country']=='USA']\n",
    "resultant_df = resultant_df[resultant_df['status']=='open']\n",
    "required_users = resultant_df.count()\n",
    "\n",
    "us_active_share = required_users/total_users*100\n",
    "\n",
    "percentage_df = pd.DataFrame ({'us_active_share': [us_active_share['user_id']]  \n",
    "})\n",
    "\n",
    "percentage_df"
   ]
  },
  {
   "cell_type": "code",
   "execution_count": null,
   "id": "21f343a6-6552-4811-aa9e-9d42ecf45117",
   "metadata": {},
   "outputs": [],
   "source": []
  }
 ],
 "metadata": {
  "kernelspec": {
   "display_name": "Python 3 (ipykernel)",
   "language": "python",
   "name": "python3"
  },
  "language_info": {
   "codemirror_mode": {
    "name": "ipython",
    "version": 3
   },
   "file_extension": ".py",
   "mimetype": "text/x-python",
   "name": "python",
   "nbconvert_exporter": "python",
   "pygments_lexer": "ipython3",
   "version": "3.12.3"
  }
 },
 "nbformat": 4,
 "nbformat_minor": 5
}
